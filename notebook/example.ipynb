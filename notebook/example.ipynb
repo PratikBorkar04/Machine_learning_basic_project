{
 "cells": [
  {
   "cell_type": "code",
   "execution_count": 2,
   "metadata": {},
   "outputs": [],
   "source": [
    "from collections import namedtuple"
   ]
  },
  {
   "cell_type": "code",
   "execution_count": null,
   "metadata": {},
   "outputs": [],
   "source": [
    "namedtuple()"
   ]
  },
  {
   "cell_type": "code",
   "execution_count": 3,
   "metadata": {},
   "outputs": [],
   "source": [
    "simple_tuple = (1,2,3,4)"
   ]
  },
  {
   "cell_type": "code",
   "execution_count": 4,
   "metadata": {},
   "outputs": [],
   "source": [
    "#Information of source data\n",
    "#1 Download url \n",
    "#2 Download Folder \n",
    "#3 Extract Folder\n",
    "#4 Train dataset folder\n",
    "#5 Test Dataset folder\n",
    "DataIngestionConfig = namedtuple( \"DataIngestionConfig\",\n",
    "[\"dataset_download_url\",\"tgz_download_dir\",\"raw_data_dir\",\"ingested_train_dir\",\"ingested_test_dir\"])\n"
   ]
  },
  {
   "cell_type": "code",
   "execution_count": 6,
   "metadata": {},
   "outputs": [],
   "source": [
    "#name tuple is not mutable\n",
    "data_ingestion = DataIngestionConfig(dataset_download_url=\"a\",\n",
    "tgz_download_dir=\"b\",\n",
    "raw_data_dir=\"c\",\n",
    "ingested_train_dir=\"d\",\n",
    "ingested_test_dir=\"e\")\n"
   ]
  },
  {
   "cell_type": "code",
   "execution_count": 7,
   "metadata": {},
   "outputs": [
    {
     "data": {
      "text/plain": [
       "DataIngestionConfig(dataset_download_url='a', tgz_download_dir='b', raw_data_dir='c', ingested_train_dir='d', ingested_test_dir='e')"
      ]
     },
     "execution_count": 7,
     "metadata": {},
     "output_type": "execute_result"
    }
   ],
   "source": [
    "data_ingestion"
   ]
  },
  {
   "cell_type": "code",
   "execution_count": null,
   "metadata": {},
   "outputs": [],
   "source": [
    " "
   ]
  }
 ],
 "metadata": {
  "kernelspec": {
   "display_name": "Python 3.7.0 (conda)",
   "language": "python",
   "name": "python3"
  },
  "language_info": {
   "codemirror_mode": {
    "name": "ipython",
    "version": 3
   },
   "file_extension": ".py",
   "mimetype": "text/x-python",
   "name": "python",
   "nbconvert_exporter": "python",
   "pygments_lexer": "ipython3",
   "version": "3.7.0"
  },
  "orig_nbformat": 4,
  "vscode": {
   "interpreter": {
    "hash": "c57984d68446edacc1f099d0a8435a354eb384645837c59f39534ee0f0378c17"
   }
  }
 },
 "nbformat": 4,
 "nbformat_minor": 2
}
